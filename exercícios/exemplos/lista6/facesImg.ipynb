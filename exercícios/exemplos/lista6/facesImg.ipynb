{
 "cells": [
  {
   "cell_type": "code",
   "execution_count": null,
   "metadata": {
    "colab": {
     "base_uri": "https://localhost:8080/",
     "height": 1000,
     "output_embedded_package_id": "1p0KDI_7gLJjOjjFwc34kRl7hZBoyHUmU"
    },
    "executionInfo": {
     "elapsed": 2134,
     "status": "ok",
     "timestamp": 1743688020986,
     "user": {
      "displayName": "Bruno Carpi",
      "userId": "00255216152035281098"
     },
     "user_tz": 180
    },
    "id": "NTJG21ix5iwj",
    "outputId": "cecd6804-4346-405b-fe63-206b0c6d289c"
   },
   "outputs": [
    {
     "ename": "ModuleNotFoundError",
     "evalue": "No module named 'google.colab'",
     "output_type": "error",
     "traceback": [
      "\u001b[1;31m---------------------------------------------------------------------------\u001b[0m",
      "\u001b[1;31mModuleNotFoundError\u001b[0m                       Traceback (most recent call last)",
      "Cell \u001b[1;32mIn[1], line 2\u001b[0m\n\u001b[0;32m      1\u001b[0m \u001b[38;5;66;03m# Importa a biblioteca openCV\u001b[39;00m\n\u001b[1;32m----> 2\u001b[0m \u001b[38;5;28;01mfrom\u001b[39;00m \u001b[38;5;21;01mgoogle\u001b[39;00m\u001b[38;5;21;01m.\u001b[39;00m\u001b[38;5;21;01mcolab\u001b[39;00m\u001b[38;5;21;01m.\u001b[39;00m\u001b[38;5;21;01mpatches\u001b[39;00m \u001b[38;5;28;01mimport\u001b[39;00m cv2_imshow\n\u001b[0;32m      3\u001b[0m \u001b[38;5;28;01mimport\u001b[39;00m \u001b[38;5;21;01mcv2\u001b[39;00m\n\u001b[0;32m      5\u001b[0m \u001b[38;5;66;03m# Carrega a imagem \"empresa.jpg\" na variável img e mostra a imagem\u001b[39;00m\n",
      "\u001b[1;31mModuleNotFoundError\u001b[0m: No module named 'google.colab'"
     ]
    }
   ],
   "source": [
    "# Importa a biblioteca openCV\n",
    "from google.colab.patches import cv2_imshow\n",
    "import cv2\n",
    "\n",
    "# Carrega a imagem \"empresa.jpg\" na variável img e mostra a imagem\n",
    "img = cv2.imread(\"empresa.jpg\")\n",
    "cv2_imshow(img)\n",
    "\n",
    "# Transforma a imagem em tons de cinza, o que facilita a aplicação do classificador\n",
    "imgPB = cv2.cvtColor(img, cv2.COLOR_BGR2GRAY)\n",
    "cv2_imshow(imgPB)\n",
    "\n",
    "# Cria um objeto do classificador usando seu construtor\n",
    "# O parâmetro recebido pelo construtor é o endereço do arquivo xml que guarda os padrões de identificação\n",
    "df = cv2.CascadeClassifier(cv2.data.haarcascades +\n",
    "'haarcascade_frontalface_default.xml')\n",
    "\n",
    "# Utiliza função de detecção a partir do objeto df\n",
    "faces = df.detectMultiScale(imgPB, scaleFactor=1.05,\n",
    "minNeighbors=7,minSize=(30,30), flags = cv2.CASCADE_SCALE_IMAGE)\n",
    "\n",
    "# Desenha retângulos amarelos nas posições em que foram encontradas\n",
    "faces\n",
    "for(x,y,w,h) in faces:\n",
    "  cv2.rectangle(img, (x,y), (x+w,y+h), (0,255,255), 7)\n",
    "\n",
    "# Mostra a imagem atualizada com a marcação dos locais onde foram encontradas faces\n",
    "cv2_imshow(img)"
   ]
  }
 ],
 "metadata": {
  "colab": {
   "authorship_tag": "ABX9TyPQxoUbRNxiaK95lmczqHI4",
   "provenance": []
  },
  "kernelspec": {
   "display_name": "base",
   "language": "python",
   "name": "python3"
  },
  "language_info": {
   "codemirror_mode": {
    "name": "ipython",
    "version": 3
   },
   "file_extension": ".py",
   "mimetype": "text/x-python",
   "name": "python",
   "nbconvert_exporter": "python",
   "pygments_lexer": "ipython3",
   "version": "3.12.7"
  }
 },
 "nbformat": 4,
 "nbformat_minor": 0
}
